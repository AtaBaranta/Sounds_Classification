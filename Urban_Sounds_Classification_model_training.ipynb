{
  "cells": [
    {
      "cell_type": "markdown",
      "metadata": {
        "id": "view-in-github",
        "colab_type": "text"
      },
      "source": [
        "<a href=\"https://colab.research.google.com/github/AtaBaranta/speech_project/blob/main/Urban_Sounds_Classification_model_training.ipynb\" target=\"_parent\"><img src=\"https://colab.research.google.com/assets/colab-badge.svg\" alt=\"Open In Colab\"/></a>"
      ]
    },
    {
      "cell_type": "code",
      "source": [
        "from cv2 import imshow\n",
        "import tensorflow as tf\n",
        "import cv2 \n",
        "import glob\n",
        "# from PIL import Image\n",
        "import pandas as pd\n",
        "import numpy as np\n",
        "import math\n",
        "import sklearn\n",
        "import sklearn.model_selection as ms\n",
        "from google.colab.patches import cv2_imshow\n",
        "from tensorflow import keras\n",
        "from tensorflow.keras import layers\n",
        "import matplotlib.pyplot as plt"
      ],
      "metadata": {
        "id": "UzyUNUHIYzaU"
      },
      "execution_count": 3,
      "outputs": []
    },
    {
      "cell_type": "code",
      "source": [
        "from google.colab import drive\n",
        "drive.mount('/content/drive')"
      ],
      "metadata": {
        "colab": {
          "base_uri": "https://localhost:8080/"
        },
        "id": "gIyjY8oVqgcx",
        "outputId": "fe8df012-7dcc-4358-94a1-e0779a402a62"
      },
      "execution_count": 2,
      "outputs": [
        {
          "output_type": "stream",
          "name": "stdout",
          "text": [
            "Mounted at /content/drive\n"
          ]
        }
      ]
    },
    {
      "cell_type": "code",
      "source": [
        "base_path = '/content/drive/MyDrive/soundsClassification/'\n",
        "\n",
        "x_train=np.load(base_path+'x_train.npy')\n",
        "y_train=np.load(base_path+'y_train.npy')\n",
        "x_val=np.load(base_path+'x_val.npy')\n",
        "y_val=np.load(base_path+'y_val.npy')\n",
        "x_test=np.load(base_path+'x_test.npy')\n",
        "y_test=np.load(base_path+'y_test.npy')\n",
        "\n",
        "cv2_imshow(x_train[0])"
      ],
      "metadata": {
        "id": "JZ_4Z8HG9dNi",
        "colab": {
          "base_uri": "https://localhost:8080/",
          "height": 81
        },
        "outputId": "090a2f56-82a1-4b34-fb5f-33aec4a616bc"
      },
      "execution_count": 4,
      "outputs": [
        {
          "output_type": "display_data",
          "data": {
            "text/plain": [
              "<PIL.Image.Image image mode=L size=64x64 at 0x7F497645F390>"
            ],
            "image/png": "[encoded data removed]"
          },
          "metadata": {}
        }
      ]
    },
    {
      "cell_type": "code",
      "source": [
        "np.shape(x_train), np.shape(y_train)"
      ],
      "metadata": {
        "colab": {
          "base_uri": "https://localhost:8080/"
        },
        "id": "Ys6J47A90bD1",
        "outputId": "172405f1-e3f0-4e10-e3d6-7e858f07a2df"
      },
      "execution_count": 5,
      "outputs": [
        {
          "output_type": "execute_result",
          "data": {
            "text/plain": [
              "((5238, 64, 64), (5238,))"
            ]
          },
          "metadata": {},
          "execution_count": 5
        }
      ]
    },
    {
      "cell_type": "code",
      "source": [
        "np.shape(x_val), np.shape(y_val)"
      ],
      "metadata": {
        "colab": {
          "base_uri": "https://localhost:8080/"
        },
        "id": "Ge2HkQ7M1GS2",
        "outputId": "7e985482-3b6e-4220-8f93-d66178f11f6e"
      },
      "execution_count": 6,
      "outputs": [
        {
          "output_type": "execute_result",
          "data": {
            "text/plain": [
              "((1747, 64, 64), (1747,))"
            ]
          },
          "metadata": {},
          "execution_count": 6
        }
      ]
    },
    {
      "cell_type": "code",
      "source": [
        "np.shape(x_test), np.shape(y_test)"
      ],
      "metadata": {
        "colab": {
          "base_uri": "https://localhost:8080/"
        },
        "id": "-Kag-rPw1GKW",
        "outputId": "d443f5ed-3031-4e5f-a9b6-64e75d91f555"
      },
      "execution_count": 7,
      "outputs": [
        {
          "output_type": "execute_result",
          "data": {
            "text/plain": [
              "((1747, 64, 64), (1747,))"
            ]
          },
          "metadata": {},
          "execution_count": 7
        }
      ]
    },
    {
      "cell_type": "code",
      "source": [
        "input_shape = 64\n",
        "model = keras.Sequential(\n",
        "    [\n",
        "        layers.Conv2D(6, kernel_size=(3, 3), strides=(2, 2), padding=\"same\", activation=\"relu\", input_shape=(input_shape, input_shape, 1)),\n",
        "        layers.AveragePooling2D(pool_size=(2, 2), strides=(2, 2),padding=\"valid\"),\n",
        "\n",
        "\n",
        "        layers.Conv2D(16, kernel_size=(3, 3), strides=(2, 2), padding=\"same\", activation=\"relu\"),\n",
        "        layers.AveragePooling2D(pool_size=(2, 2), strides=(2, 2), padding=\"valid\"),\n",
        "\n",
        "\n",
        "        layers.Flatten(),\n",
        "        layers.Dense(120, activation='relu'),\n",
        "        layers.Dropout(0.4),\n",
        "        layers.Dense(84, activation='relu'),\n",
        "        layers.Dropout(0.3),\n",
        "        layers.Dense(10, activation='softmax'),\n",
        "    ]\n",
        ")\n",
        "model.summary()"
      ],
      "metadata": {
        "colab": {
          "base_uri": "https://localhost:8080/"
        },
        "id": "DmtEoVhq2_JH",
        "outputId": "96458c4b-7d8f-45a2-c572-ce735b95d5d0"
      },
      "execution_count": 10,
      "outputs": [
        {
          "output_type": "stream",
          "name": "stdout",
          "text": [
            "Model: \"sequential_1\"\n",
            "_________________________________________________________________\n",
            " Layer (type)                Output Shape              Param #   \n",
            "=================================================================\n",
            " conv2d_2 (Conv2D)           (None, 32, 32, 6)         60        \n",
            "                                                                 \n",
            " average_pooling2d_2 (Averag  (None, 16, 16, 6)        0         \n",
            " ePooling2D)                                                     \n",
            "                                                                 \n",
            " conv2d_3 (Conv2D)           (None, 8, 8, 16)          880       \n",
            "                                                                 \n",
            " average_pooling2d_3 (Averag  (None, 4, 4, 16)         0         \n",
            " ePooling2D)                                                     \n",
            "                                                                 \n",
            " flatten_1 (Flatten)         (None, 256)               0         \n",
            "                                                                 \n",
            " dense_3 (Dense)             (None, 120)               30840     \n",
            "                                                                 \n",
            " dropout_2 (Dropout)         (None, 120)               0         \n",
            "                                                                 \n",
            " dense_4 (Dense)             (None, 84)                10164     \n",
            "                                                                 \n",
            " dropout_3 (Dropout)         (None, 84)                0         \n",
            "                                                                 \n",
            " dense_5 (Dense)             (None, 10)                850       \n",
            "                                                                 \n",
            "=================================================================\n",
            "Total params: 42,794\n",
            "Trainable params: 42,794\n",
            "Non-trainable params: 0\n",
            "_________________________________________________________________\n"
          ]
        }
      ]
    },
    {
      "cell_type": "code",
      "source": [
        "model.compile(optimizer=\"adam\", loss=tf.keras.losses.SparseCategoricalCrossentropy(from_logits=True), metrics=[\"accuracy\"])\n",
        "\n",
        "results = model.fit(x_train, y_train, epochs=23, validation_data=(x_val, y_val))"
      ],
      "metadata": {
        "colab": {
          "base_uri": "https://localhost:8080/"
        },
        "id": "pAGDngbG8o2j",
        "outputId": "a7f5eaa5-6f81-48e4-e5e0-3ba5ee09e947"
      },
      "execution_count": 11,
      "outputs": [
        {
          "output_type": "stream",
          "name": "stdout",
          "text": [
            "Epoch 1/23\n",
            "164/164 [==============================] - 1s 5ms/step - loss: 2.7117 - accuracy: 0.2606 - val_loss: 1.6595 - val_accuracy: 0.4184\n",
            "Epoch 2/23\n",
            "164/164 [==============================] - 1s 4ms/step - loss: 1.6852 - accuracy: 0.3898 - val_loss: 1.4333 - val_accuracy: 0.4951\n",
            "Epoch 3/23\n",
            "164/164 [==============================] - 1s 4ms/step - loss: 1.4897 - accuracy: 0.4727 - val_loss: 1.2576 - val_accuracy: 0.5650\n",
            "Epoch 4/23\n",
            "164/164 [==============================] - 1s 4ms/step - loss: 1.3504 - accuracy: 0.5244 - val_loss: 1.1562 - val_accuracy: 0.5947\n",
            "Epoch 5/23\n",
            "164/164 [==============================] - 1s 4ms/step - loss: 1.2519 - accuracy: 0.5592 - val_loss: 1.0720 - val_accuracy: 0.6503\n",
            "Epoch 6/23\n",
            "164/164 [==============================] - 1s 4ms/step - loss: 1.1335 - accuracy: 0.5987 - val_loss: 0.9753 - val_accuracy: 0.6760\n",
            "Epoch 7/23\n",
            "164/164 [==============================] - 1s 4ms/step - loss: 1.0618 - accuracy: 0.6317 - val_loss: 0.9511 - val_accuracy: 0.6875\n",
            "Epoch 8/23\n",
            "164/164 [==============================] - 1s 4ms/step - loss: 0.9900 - accuracy: 0.6592 - val_loss: 0.8962 - val_accuracy: 0.7098\n",
            "Epoch 9/23\n",
            "164/164 [==============================] - 1s 4ms/step - loss: 0.9347 - accuracy: 0.6835 - val_loss: 0.8297 - val_accuracy: 0.7401\n",
            "Epoch 10/23\n",
            "164/164 [==============================] - 1s 4ms/step - loss: 0.8985 - accuracy: 0.6964 - val_loss: 0.8176 - val_accuracy: 0.7293\n",
            "Epoch 11/23\n",
            "164/164 [==============================] - 1s 4ms/step - loss: 0.8537 - accuracy: 0.7048 - val_loss: 0.8435 - val_accuracy: 0.7161\n",
            "Epoch 12/23\n",
            "164/164 [==============================] - 1s 4ms/step - loss: 0.8231 - accuracy: 0.7207 - val_loss: 0.7979 - val_accuracy: 0.7430\n",
            "Epoch 13/23\n",
            "164/164 [==============================] - 1s 4ms/step - loss: 0.7755 - accuracy: 0.7375 - val_loss: 0.7465 - val_accuracy: 0.7493\n",
            "Epoch 14/23\n",
            "164/164 [==============================] - 1s 4ms/step - loss: 0.7455 - accuracy: 0.7507 - val_loss: 0.7327 - val_accuracy: 0.7607\n",
            "Epoch 15/23\n",
            "164/164 [==============================] - 1s 4ms/step - loss: 0.7130 - accuracy: 0.7593 - val_loss: 0.7662 - val_accuracy: 0.7459\n",
            "Epoch 16/23\n",
            "164/164 [==============================] - 1s 4ms/step - loss: 0.7210 - accuracy: 0.7497 - val_loss: 0.7210 - val_accuracy: 0.7682\n",
            "Epoch 17/23\n",
            "164/164 [==============================] - 1s 4ms/step - loss: 0.6494 - accuracy: 0.7850 - val_loss: 0.6974 - val_accuracy: 0.7722\n",
            "Epoch 18/23\n",
            "164/164 [==============================] - 1s 4ms/step - loss: 0.6434 - accuracy: 0.7751 - val_loss: 0.6763 - val_accuracy: 0.7779\n",
            "Epoch 19/23\n",
            "164/164 [==============================] - 1s 4ms/step - loss: 0.6149 - accuracy: 0.7900 - val_loss: 0.6595 - val_accuracy: 0.7945\n",
            "Epoch 20/23\n",
            "164/164 [==============================] - 1s 4ms/step - loss: 0.5903 - accuracy: 0.8024 - val_loss: 0.6546 - val_accuracy: 0.7974\n",
            "Epoch 21/23\n",
            "164/164 [==============================] - 1s 4ms/step - loss: 0.5754 - accuracy: 0.8106 - val_loss: 0.6642 - val_accuracy: 0.7945\n",
            "Epoch 22/23\n",
            "164/164 [==============================] - 1s 4ms/step - loss: 0.5790 - accuracy: 0.8011 - val_loss: 0.6949 - val_accuracy: 0.7888\n",
            "Epoch 23/23\n",
            "164/164 [==============================] - 1s 4ms/step - loss: 0.5454 - accuracy: 0.8120 - val_loss: 0.6497 - val_accuracy: 0.7888\n"
          ]
        }
      ]
    },
    {
      "cell_type": "code",
      "source": [
        "plt.plot(results.history['accuracy'], label='Train')\n",
        "plt.plot(results.history['val_accuracy'], label='Test')\n",
        "\n",
        "plt.ylabel('Accuracy')\n",
        "plt.xlabel('Epoch')\n",
        "plt.legend()\n",
        "\n",
        "plt.show()"
      ],
      "metadata": {
        "colab": {
          "base_uri": "https://localhost:8080/",
          "height": 279
        },
        "id": "-Bd66BWoMY-a",
        "outputId": "ad06f3c8-7ccb-49d6-84f5-1d66aaa7f4e5"
      },
      "execution_count": 13,
      "outputs": [
        {
          "output_type": "display_data",
          "data": {
            "text/plain": [
              "<Figure size 432x288 with 1 Axes>"
            ],
            "image/png": "[encoded data removed]"
          },
          "metadata": {
            "needs_background": "light"
          }
        }
      ]
    },
    {
      "cell_type": "code",
      "source": [
        "plt.plot(results.history['loss'], label='Train')\n",
        "plt.plot(results.history['val_loss'], label='Test')\n",
        "\n",
        "plt.ylabel('Loss')\n",
        "plt.xlabel('Epoch')\n",
        "plt.legend()\n",
        "\n",
        "plt.show()"
      ],
      "metadata": {
        "colab": {
          "base_uri": "https://localhost:8080/",
          "height": 279
        },
        "id": "MyZ-aik6MtH-",
        "outputId": "9d6752d3-22c1-4cf0-c85d-167de79459e3"
      },
      "execution_count": 14,
      "outputs": [
        {
          "output_type": "display_data",
          "data": {
            "text/plain": [
              "<Figure size 432x288 with 1 Axes>"
            ],
            "image/png": "[encoded data removed]"
          },
          "metadata": {
            "needs_background": "light"
          }
        }
      ]
    },
    {
      "cell_type": "code",
      "source": [
        "test_loss, test_acc = model.evaluate(x_test, y_test)\n",
        "print(test_acc)"
      ],
      "metadata": {
        "id": "lCJUKVYAuQNR",
        "outputId": "e0abb517-9a90-4cd0-e78c-5ee01c431690",
        "colab": {
          "base_uri": "https://localhost:8080/"
        }
      },
      "execution_count": 25,
      "outputs": [
        {
          "output_type": "stream",
          "name": "stdout",
          "text": [
            "55/55 [==============================] - 0s 3ms/step - loss: 0.6185 - accuracy: 0.8140\n",
            "0.8139668107032776\n"
          ]
        }
      ]
    }
  ],
  "metadata": {
    "accelerator": "GPU",
    "colab": {
      "provenance": [],
      "collapsed_sections": [],
      "include_colab_link": true
    },
    "kernelspec": {
      "display_name": "Python 3",
      "name": "python3"
    },
    "language_info": {
      "name": "python"
    }
  },
  "nbformat": 4,
  "nbformat_minor": 0
}